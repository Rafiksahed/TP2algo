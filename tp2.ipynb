{
 "cells": [
  {
   "cell_type": "code",
   "execution_count": 6,
   "metadata": {},
   "outputs": [
    {
     "name": "stdout",
     "output_type": "stream",
     "text": [
      "Arbre avant conversion: [10, 22, 5, 18, 20, 25, 40, 30, 35, 12]\n",
      "Arbre après conversion en TASmax: [40, 35, 25, 30, 20, 10, 5, 22, 18, 12]\n"
     ]
    }
   ],
   "source": [
    "def entasser(tableau, n, index):\n",
    "    \n",
    "    fils_gauche = 2 * index + 1\n",
    "    fils_droit = 2 * index + 2\n",
    "    plus_grand = index\n",
    "\n",
    "    if fils_gauche < n and tableau[fils_gauche] > tableau[plus_grand]:\n",
    "        plus_grand = fils_gauche\n",
    "\n",
    "    if fils_droit < n and tableau[fils_droit] > tableau[plus_grand]:\n",
    "        plus_grand = fils_droit\n",
    "\n",
    "    if plus_grand != index:\n",
    "        tableau[index], tableau[plus_grand] = tableau[plus_grand], tableau[index]\n",
    "        entasser(tableau, n, plus_grand)\n",
    "\n",
    "def construire_tas(tableau):\n",
    "\n",
    "    n = len(tableau)\n",
    "\n",
    "    for i in reversed(range(n // 2)): \n",
    "      entasser(tableau, n, i)\n",
    "\n",
    "\n",
    "arbre = [10, 22, 5, 18, 20, 25, 40, 30, 35, 12]\n",
    "print(\"Arbre avant conversion:\", arbre)\n",
    "\n",
    "construire_tas(arbre)\n",
    "print(\"Arbre après conversion en TASmax:\", arbre)\n"
   ]
  }
 ],
 "metadata": {
  "kernelspec": {
   "display_name": "Python 3",
   "language": "python",
   "name": "python3"
  },
  "language_info": {
   "codemirror_mode": {
    "name": "ipython",
    "version": 3
   },
   "file_extension": ".py",
   "mimetype": "text/x-python",
   "name": "python",
   "nbconvert_exporter": "python",
   "pygments_lexer": "ipython3",
   "version": "3.11.8"
  }
 },
 "nbformat": 4,
 "nbformat_minor": 2
}
